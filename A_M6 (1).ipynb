{
 "cells": [
  {
   "cell_type": "markdown",
   "metadata": {
    "deletable": false,
    "editable": false,
    "nbgrader": {
     "cell_type": "markdown",
     "checksum": "358f674fab6ccd867a3785b7750c1090",
     "grade": false,
     "grade_id": "cell-817d95625e6bbc0d",
     "locked": true,
     "schema_version": 3,
     "solution": false,
     "task": false
    }
   },
   "source": [
    "# Module 6 Autograded Assignment"
   ]
  },
  {
   "cell_type": "code",
   "execution_count": null,
   "metadata": {
    "deletable": false,
    "editable": false,
    "nbgrader": {
     "cell_type": "code",
     "checksum": "859ba2f3533cf990f46264b97633c61b",
     "grade": false,
     "grade_id": "cell-e5924c3e8e1460f6",
     "locked": true,
     "schema_version": 3,
     "solution": false,
     "task": false
    }
   },
   "outputs": [],
   "source": [
    "# Load Packages\n",
    "library(testthat)"
   ]
  },
  {
   "cell_type": "markdown",
   "metadata": {
    "deletable": false,
    "editable": false,
    "nbgrader": {
     "cell_type": "markdown",
     "checksum": "73a96be09a7792e89a89ed40bd8f2a59",
     "grade": false,
     "grade_id": "cell-c26e9d8079382b33",
     "locked": true,
     "schema_version": 3,
     "solution": false,
     "task": false
    }
   },
   "source": [
    "# Problem 1\n",
    "\n",
    "You are a quality assurance tester for hardware equipment and been given a lot of $10,000$ nails to test. You decide to randomly sample $100$ nails from the lot and test if they are defective. The whole lot would be considered defective if the average of the sample is less than $11.97$cm or greater than $12.04$cm. Given that the true population mean $\\mu$ is $12$cm with a true standard deviation $\\sigma$ of $0.2$cm, what is the probability that the lot is **not** defective? Round your answer to two decimal places. Save your answer as `p1`."
   ]
  },
  {
   "cell_type": "code",
   "execution_count": 1,
   "metadata": {
    "deletable": false,
    "nbgrader": {
     "cell_type": "code",
     "checksum": "561ac16d9982a49be45f43ca03f86761",
     "grade": false,
     "grade_id": "cell-b5e82d8720ba5467",
     "locked": false,
     "schema_version": 3,
     "solution": true,
     "task": false
    }
   },
   "outputs": [
    {
     "data": {
      "text/html": [
       "0.910442666782956"
      ],
      "text/latex": [
       "0.910442666782956"
      ],
      "text/markdown": [
       "0.910442666782956"
      ],
      "text/plain": [
       "[1] 0.9104427"
      ]
     },
     "metadata": {},
     "output_type": "display_data"
    }
   ],
   "source": [
    "p1 = NA\n",
    "# Problem 1\n",
    "mu <- 12          # Population mean\n",
    "sigma <- 0.2      # Population standard deviation\n",
    "n <- 100          # Sample size\n",
    "se <- sigma / sqrt(n)  # Standard error\n",
    "\n",
    "# Probability that the sample mean is within [11.97, 12.04]\n",
    "p1 <- pnorm(12.04, mean = mu, sd = se) - pnorm(11.97, mean = mu, sd = se)\n",
    "p1  # Final answer for Problem 1\n",
    "\n"
   ]
  },
  {
   "cell_type": "code",
   "execution_count": null,
   "metadata": {
    "deletable": false,
    "editable": false,
    "nbgrader": {
     "cell_type": "code",
     "checksum": "5b0b821db3709cf937d4580a19f91171",
     "grade": true,
     "grade_id": "cell-6f5220442faafb40",
     "locked": true,
     "points": 1,
     "schema_version": 3,
     "solution": false,
     "task": false
    }
   },
   "outputs": [],
   "source": [
    "# Hidden Test Cell"
   ]
  },
  {
   "cell_type": "markdown",
   "metadata": {
    "deletable": false,
    "editable": false,
    "nbgrader": {
     "cell_type": "markdown",
     "checksum": "81c63ef6c3fc4b7cdfe1e566faa35bc3",
     "grade": false,
     "grade_id": "cell-7ae08ae9c670e962",
     "locked": true,
     "schema_version": 3,
     "solution": false,
     "task": false
    }
   },
   "source": [
    "# Problem 2\n",
    "\n",
    "Suppose you are out fishing and you want to predict the amount of time (in minutes) it takes to catch 3 fish. Let $T_F \\sim N(15, 10)$ be the time it takes to reel in a fish. Let $T_T \\sim N(10, 8)$ be the amount of time you spend waiting for the fish to take the bait. Assume $T_F$ and $T_T$ are independent. Also assume you start timing as soon as you start reeling in the first fish, and the time ends when you have finished catching the third fish. "
   ]
  },
  {
   "cell_type": "markdown",
   "metadata": {
    "deletable": false,
    "editable": false,
    "nbgrader": {
     "cell_type": "markdown",
     "checksum": "8c66a5656415e414a314e1ae3b34b1fb",
     "grade": false,
     "grade_id": "cell-1ec3de7be7889e5b",
     "locked": true,
     "schema_version": 3,
     "solution": false,
     "task": false
    }
   },
   "source": [
    "**a)** Let $T$ be the random variable for the total amount of time spent fishing. What is $E[T]$ and $Var[T]$? Save your variables as `exp.T` and `var.T`. (Hint: Note that a variance of 122 is incorrect for this problem. Why? If $Z_1$ and $Z_2$ are indepedent N(0,1) random variables, the distribution of $Z_1 + Z_2 $ is not the same as $2Z_1$. If you want to explore this, you can run some simulations to see for yourself.) "
   ]
  },
  {
   "cell_type": "code",
   "execution_count": 2,
   "metadata": {
    "deletable": false,
    "nbgrader": {
     "cell_type": "code",
     "checksum": "9f19b50842d0a130c87ba01b81bd9ad1",
     "grade": false,
     "grade_id": "cell-486a5b231afdf9c4",
     "locked": false,
     "schema_version": 3,
     "solution": true,
     "task": false
    }
   },
   "outputs": [
    {
     "data": {
      "text/html": [
       "65"
      ],
      "text/latex": [
       "65"
      ],
      "text/markdown": [
       "65"
      ],
      "text/plain": [
       "[1] 65"
      ]
     },
     "metadata": {},
     "output_type": "display_data"
    },
    {
     "data": {
      "text/html": [
       "46"
      ],
      "text/latex": [
       "46"
      ],
      "text/markdown": [
       "46"
      ],
      "text/plain": [
       "[1] 46"
      ]
     },
     "metadata": {},
     "output_type": "display_data"
    }
   ],
   "source": [
    "exp.T = NA\n",
    "var.T = NA\n",
    "# Problem 2a\n",
    "E_TF <- 15  # Mean of reeling time\n",
    "Var_TF <- 10  # Variance of reeling time\n",
    "\n",
    "E_TT <- 10  # Mean of waiting time\n",
    "Var_TT <- 8  # Variance of waiting time\n",
    "\n",
    "# Total Expected Time: 3 * E[T_F] + 2 * E[T_T]\n",
    "exp.T <- 3 * E_TF + 2 * E_TT\n",
    "\n",
    "# Total Variance: 3 * Var[T_F] + 2 * Var[T_T]\n",
    "var.T <- 3 * Var_TF + 2 * Var_TT\n",
    "\n",
    "exp.T  # Expected time\n",
    "var.T  # Variance of total time\n",
    "\n"
   ]
  },
  {
   "cell_type": "code",
   "execution_count": null,
   "metadata": {
    "deletable": false,
    "editable": false,
    "nbgrader": {
     "cell_type": "code",
     "checksum": "4a8045277f1a7243c171247b331cc542",
     "grade": true,
     "grade_id": "cell-5dca06bf3aa0900b",
     "locked": true,
     "points": 1,
     "schema_version": 3,
     "solution": false,
     "task": false
    }
   },
   "outputs": [],
   "source": [
    "# Hidden Test Cell"
   ]
  },
  {
   "cell_type": "markdown",
   "metadata": {
    "deletable": false,
    "editable": false,
    "nbgrader": {
     "cell_type": "markdown",
     "checksum": "41c021adef2d27fe08253ba4132ca553",
     "grade": false,
     "grade_id": "cell-c79e2b7c15360310",
     "locked": true,
     "schema_version": 3,
     "solution": false,
     "task": false
    }
   },
   "source": [
    "**b)** What is the probability that you finish catching the three fish in 60 minutes or less? Round your answer to three decimal places. Save your answer as `p2.2`."
   ]
  },
  {
   "cell_type": "code",
   "execution_count": 3,
   "metadata": {
    "deletable": false,
    "nbgrader": {
     "cell_type": "code",
     "checksum": "35c3f16bf84e211efcca0838977f9d07",
     "grade": false,
     "grade_id": "cell-c5897de05b22e9c5",
     "locked": false,
     "schema_version": 3,
     "solution": true,
     "task": false
    }
   },
   "outputs": [
    {
     "data": {
      "text/html": [
       "0.230497393212789"
      ],
      "text/latex": [
       "0.230497393212789"
      ],
      "text/markdown": [
       "0.230497393212789"
      ],
      "text/plain": [
       "[1] 0.2304974"
      ]
     },
     "metadata": {},
     "output_type": "display_data"
    }
   ],
   "source": [
    "p2.2 = NA\n",
    "\n",
    "# Problem 2b\n",
    "se_T <- sqrt(var.T)  # Standard deviation of T\n",
    "\n",
    "# Probability that total time ≤ 60 minutes\n",
    "p2.2 <- pnorm(60, mean = exp.T, sd = se_T)\n",
    "p2.2  # Final answer for Problem 2b\n",
    "\n"
   ]
  },
  {
   "cell_type": "code",
   "execution_count": null,
   "metadata": {
    "deletable": false,
    "editable": false,
    "nbgrader": {
     "cell_type": "code",
     "checksum": "d36f6ad1025afe5fb89a18dca6e10b32",
     "grade": true,
     "grade_id": "cell-4eeef90569d229a9",
     "locked": true,
     "points": 1,
     "schema_version": 3,
     "solution": false,
     "task": false
    }
   },
   "outputs": [],
   "source": [
    "# Hidden Test Cell"
   ]
  },
  {
   "cell_type": "markdown",
   "metadata": {
    "deletable": false,
    "editable": false,
    "nbgrader": {
     "cell_type": "markdown",
     "checksum": "b1ab7fa3b1afa6d85ad23e7e7ab681df",
     "grade": false,
     "grade_id": "cell-56f245bd232d7f4d",
     "locked": true,
     "schema_version": 3,
     "solution": false,
     "task": false
    }
   },
   "source": [
    "# Problem 3\n",
    "\n",
    "Exams given by a particular instructor in a freshman-level statistics course have a mean of $75$ and a standard deviation of $17$. The instructor gives an exam to two classes, one with $30$ students and the other with $90$ students."
   ]
  },
  {
   "cell_type": "markdown",
   "metadata": {
    "deletable": false,
    "editable": false,
    "nbgrader": {
     "cell_type": "markdown",
     "checksum": "4722a6ea097be4d9b09d87d1a1c17a36",
     "grade": false,
     "grade_id": "cell-85652af628ab9d1e",
     "locked": true,
     "schema_version": 3,
     "solution": false,
     "task": false
    }
   },
   "source": [
    "**a)** Let $\\bar{X}$ represent the average exam score in the class of $30$. Approximate the probability that the average test score $\\bar{X}$ exceeds $80$, that is, estimate $P(\\bar{X} \\ge 80)$. Round your answer to four decimal places. Save your answer as `p3.a`."
   ]
  },
  {
   "cell_type": "code",
   "execution_count": 4,
   "metadata": {
    "deletable": false,
    "nbgrader": {
     "cell_type": "code",
     "checksum": "f538683754bbb2a38da8cfb47ad4f668",
     "grade": false,
     "grade_id": "cell-b4ca82e7942ac5c5",
     "locked": false,
     "schema_version": 3,
     "solution": true,
     "task": false
    }
   },
   "outputs": [
    {
     "data": {
      "text/html": [
       "0.0535954522410129"
      ],
      "text/latex": [
       "0.0535954522410129"
      ],
      "text/markdown": [
       "0.0535954522410129"
      ],
      "text/plain": [
       "[1] 0.05359545"
      ]
     },
     "metadata": {},
     "output_type": "display_data"
    }
   ],
   "source": [
    "p3.a = NA\n",
    "# Problem 3a\n",
    "mu_exam <- 75\n",
    "sigma_exam <- 17\n",
    "n_30 <- 30\n",
    "\n",
    "se_30 <- sigma_exam / sqrt(n_30)\n",
    "p3.a <- 1 - pnorm(80, mean = mu_exam, sd = se_30)\n",
    "p3.a  # Final answer for Problem 3a\n",
    "\n"
   ]
  },
  {
   "cell_type": "code",
   "execution_count": null,
   "metadata": {
    "deletable": false,
    "editable": false,
    "nbgrader": {
     "cell_type": "code",
     "checksum": "14369a8bf457d91b602442689374f7dd",
     "grade": true,
     "grade_id": "cell-4d87cc4202502975",
     "locked": true,
     "points": 1,
     "schema_version": 3,
     "solution": false,
     "task": false
    }
   },
   "outputs": [],
   "source": [
    "# Hidden Test Cell"
   ]
  },
  {
   "cell_type": "markdown",
   "metadata": {
    "deletable": false,
    "editable": false,
    "nbgrader": {
     "cell_type": "markdown",
     "checksum": "9d8c08284db2d8141f887292812ee25c",
     "grade": false,
     "grade_id": "cell-e313f24ee57c72eb",
     "locked": true,
     "schema_version": 3,
     "solution": false,
     "task": false
    }
   },
   "source": [
    "**b)** Let $\\bar{Y}$ represent the average exam score in the class of $90$. Approximate the probability that the average test score $\\bar{Y}$ exceeds $80$, that is, estimate $P(\\bar{Y} \\ge 80)$. Round your answer to four decimal places. Save your answer as `p3.b`."
   ]
  },
  {
   "cell_type": "code",
   "execution_count": 5,
   "metadata": {
    "deletable": false,
    "nbgrader": {
     "cell_type": "code",
     "checksum": "29d5b8e7c099eddf2c4f659436f6c84a",
     "grade": false,
     "grade_id": "cell-2b0fe4f57f4c6ff5",
     "locked": false,
     "schema_version": 3,
     "solution": true,
     "task": false
    }
   },
   "outputs": [
    {
     "data": {
      "text/html": [
       "0.00263340855272987"
      ],
      "text/latex": [
       "0.00263340855272987"
      ],
      "text/markdown": [
       "0.00263340855272987"
      ],
      "text/plain": [
       "[1] 0.002633409"
      ]
     },
     "metadata": {},
     "output_type": "display_data"
    }
   ],
   "source": [
    "p3.b = NA\n",
    "# Problem 3b\n",
    "n_90 <- 90\n",
    "\n",
    "se_90 <- sigma_exam / sqrt(n_90)\n",
    "p3.b <- 1 - pnorm(80, mean = mu_exam, sd = se_90)\n",
    "p3.b  # Final answer for Problem 3b\n",
    "\n"
   ]
  },
  {
   "cell_type": "code",
   "execution_count": null,
   "metadata": {
    "deletable": false,
    "editable": false,
    "nbgrader": {
     "cell_type": "code",
     "checksum": "163b569dfdb0a04769ba0a7ff0965715",
     "grade": true,
     "grade_id": "cell-2e3d758344a9f33e",
     "locked": true,
     "points": 1,
     "schema_version": 3,
     "solution": false,
     "task": false
    }
   },
   "outputs": [],
   "source": [
    "# Hidden Test Cell"
   ]
  },
  {
   "cell_type": "markdown",
   "metadata": {
    "deletable": false,
    "editable": false,
    "nbgrader": {
     "cell_type": "markdown",
     "checksum": "058601561935581ff7d76b3467e32ae9",
     "grade": false,
     "grade_id": "cell-9ee70ded5db6ed2d",
     "locked": true,
     "schema_version": 3,
     "solution": false,
     "task": false
    }
   },
   "source": [
    "**Thought Question (Not Graded)** Would you be surpised to learn that the $90$ person class had an exam average of $80$ or higher?"
   ]
  },
  {
   "cell_type": "markdown",
   "metadata": {
    "deletable": false,
    "editable": false,
    "nbgrader": {
     "cell_type": "markdown",
     "checksum": "ca27f3a830343c1fe63335348b655c45",
     "grade": false,
     "grade_id": "cell-827bde70e5d92fe2",
     "locked": true,
     "schema_version": 3,
     "solution": false,
     "task": false
    }
   },
   "source": [
    "**c)** Estimate the probability that the averages of the two classes are within one point of each other, that is, estimate $P(-1 \\le \\bar{Y} - \\bar{X} \\le 1)$. Hint: What is the distribution of $\\bar{Y} - \\bar{X}$? Round your answer to two decimal places. Save your answer as `p3.c`."
   ]
  },
  {
   "cell_type": "code",
   "execution_count": 6,
   "metadata": {
    "deletable": false,
    "nbgrader": {
     "cell_type": "code",
     "checksum": "70e6e49d4d0073c34f124eb6f3e7bd2c",
     "grade": false,
     "grade_id": "cell-dccf383515b4c2a9",
     "locked": false,
     "schema_version": 3,
     "solution": true,
     "task": false
    }
   },
   "outputs": [
    {
     "data": {
      "text/html": [
       "0.21977397669384"
      ],
      "text/latex": [
       "0.21977397669384"
      ],
      "text/markdown": [
       "0.21977397669384"
      ],
      "text/plain": [
       "[1] 0.219774"
      ]
     },
     "metadata": {},
     "output_type": "display_data"
    }
   ],
   "source": [
    "p3.c = NA\n",
    "# Problem 3c\n",
    "var_diff <- (sigma_exam^2 / n_90) + (sigma_exam^2 / n_30)\n",
    "se_diff <- sqrt(var_diff)\n",
    "\n",
    "# P(-1 ≤ Ȳ - X̄ ≤ 1)\n",
    "p3.c <- pnorm(1, mean = 0, sd = se_diff) - pnorm(-1, mean = 0, sd = se_diff)\n",
    "p3.c  # Final answer for Problem 3c\n",
    "\n"
   ]
  },
  {
   "cell_type": "code",
   "execution_count": null,
   "metadata": {
    "deletable": false,
    "editable": false,
    "nbgrader": {
     "cell_type": "code",
     "checksum": "3c79bb3b05ee7dfb41814baf0c77e354",
     "grade": true,
     "grade_id": "cell-72873d48d756f2ed",
     "locked": true,
     "points": 1,
     "schema_version": 3,
     "solution": false,
     "task": false
    }
   },
   "outputs": [],
   "source": [
    "# Hidden Test Cell"
   ]
  },
  {
   "cell_type": "markdown",
   "metadata": {
    "deletable": false,
    "editable": false,
    "nbgrader": {
     "cell_type": "markdown",
     "checksum": "ac192f37c639556e6341d58ee29ba0f8",
     "grade": false,
     "grade_id": "cell-79e624ff27d152fc",
     "locked": true,
     "schema_version": 3,
     "solution": false,
     "task": false
    }
   },
   "source": [
    "# Problem 4\n",
    "\n",
    " The Central Limit Theorem states: Let $X_1, \\dots, X_n$ be a random sample with $E[X_i] = \\mu$ and $Var(X_i)=\\sigma^2$. If $n$ is sufficiently large, then $\\bar{X}$ has approximately a normal distribution with mean $\\mu_{\\bar{X}} = \\mu$ and variance $\\sigma_{\\bar{X}}^2 = \\sigma^2/n$. It's also true that $\\sum_{i=1}^n X_i \\sim N(n\\mu, n\\sigma^2)$. \n",
    " \n",
    "Suppose a machine requires a specific type of battery that lasts an exponential amount of time with mean $25$ hours. As soon as the battery fails, you replace it immediately. If you have $50$ such batteries, estimate the probability that the machine is still operating after $1300$ hours. Round your answer to three decimal places. Save your answer as `p4`."
   ]
  },
  {
   "cell_type": "code",
   "execution_count": 7,
   "metadata": {
    "deletable": false,
    "nbgrader": {
     "cell_type": "code",
     "checksum": "69f2e41db640003fa454b10b55b464f0",
     "grade": false,
     "grade_id": "cell-47ca5d695e456ee2",
     "locked": false,
     "schema_version": 3,
     "solution": true,
     "task": false
    }
   },
   "outputs": [
    {
     "data": {
      "text/html": [
       "0.388648705394761"
      ],
      "text/latex": [
       "0.388648705394761"
      ],
      "text/markdown": [
       "0.388648705394761"
      ],
      "text/plain": [
       "[1] 0.3886487"
      ]
     },
     "metadata": {},
     "output_type": "display_data"
    }
   ],
   "source": [
    "p4 = NA\n",
    "# Problem 4\n",
    "lambda <- 1 / 25  # Rate for exponential distribution\n",
    "n_batteries <- 50\n",
    "total_mean <- n_batteries * 25\n",
    "total_sd <- sqrt(n_batteries) * 25\n",
    "\n",
    "# Probability that the total time > 1300 hours\n",
    "p4 <- 1 - pnorm(1300, mean = total_mean, sd = total_sd)\n",
    "p4  # Final answer for Problem 4\n",
    "\n"
   ]
  },
  {
   "cell_type": "code",
   "execution_count": null,
   "metadata": {
    "deletable": false,
    "editable": false,
    "nbgrader": {
     "cell_type": "code",
     "checksum": "cba7810b2890ae4e5896e7ac156928bc",
     "grade": true,
     "grade_id": "cell-556417de8be3ea64",
     "locked": true,
     "points": 1,
     "schema_version": 3,
     "solution": false,
     "task": false
    }
   },
   "outputs": [],
   "source": [
    "# Hidden Test Cell"
   ]
  }
 ],
 "metadata": {
  "kernelspec": {
   "display_name": "R",
   "language": "R",
   "name": "ir"
  },
  "language_info": {
   "codemirror_mode": "r",
   "file_extension": ".r",
   "mimetype": "text/x-r-source",
   "name": "R",
   "pygments_lexer": "r",
   "version": "3.6.3"
  }
 },
 "nbformat": 4,
 "nbformat_minor": 4
}
